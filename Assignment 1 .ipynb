{
 "cells": [
  {
   "cell_type": "markdown",
   "id": "44a36693",
   "metadata": {},
   "source": [
    "Q1. In the below elements which of them are values or an expression? eg:- values can be\n",
    "integer or string and expressions will be mathematical operators.\n",
    "*\n",
    "\n",
    "'hello'\n",
    "\n",
    "-87.8\n",
    "\n",
    "-\n",
    "\n",
    "/\n",
    "\n",
    "+\n",
    "\n",
    "6"
   ]
  },
  {
   "cell_type": "markdown",
   "id": "e3ebe298",
   "metadata": {},
   "source": [
    "Soln:\n",
    "\n",
    "> * = Expression (Multiplication) \n",
    ">'hello' = Value (String) \n",
    "> -87.8 = Value (Integer) \n",
    "> - = Expression (Subtraction) \n",
    "> + = Expression ( Addition) \n",
    "> 6 = Value (Integer) "
   ]
  },
  {
   "cell_type": "markdown",
   "id": "4e5fb1bf",
   "metadata": {},
   "source": [
    "Q2. What is the difference between string and variable?"
   ]
  },
  {
   "cell_type": "markdown",
   "id": "222bc9f3",
   "metadata": {},
   "source": [
    "Soln: \n",
    "\n",
    "A STRING is a sequence of characters, such as letters, digits, symbols, or spaces, that are treated as text. Strings are typically used to represent and manipulate textual data. In most programming languages they are enclosed in quotations. For Eg. \"Hello, World!\" whereas\n",
    "\n",
    "An INTEGER is a whole number without any fraction or decimal. It denotes numeric value and contain no textual data. For Eg. 0, -1, -2, 3, 4, 98 and so on. \n",
    "\n",
    "Some differences between a String and an Integer are as follows- \n",
    "\n",
    "1. Representation : Strings are represented as a character value whereas an Integer represented as a numeric valu\n",
    "\n",
    "2. Usage : Strings are used for storing and manipulating textual data, while integers are used for numerical calculations and counting.\n",
    "\n",
    "3. Operations: String operations typically involve concatenation, searching, and manipulation of characters. Integer operations involve arithmetic calculations such as addition, subtraction, multiplication, and division.\n",
    "\n",
    "4. Type: Strings belong to the data type \"string\" or \"str,\" whereas integers belong to the data type \"integer\" or \"int.\"\n",
    "\n",
    "5. Conversion: It is often possible to convert between strings and integers, depending on the programming language. Converting a string to an integer is known as parsing or typecasting, and converting an integer to a string is known as string representation.\n",
    "    \n"
   ]
  },
  {
   "cell_type": "markdown",
   "id": "bb149790",
   "metadata": {},
   "source": [
    "Q3. Describe3 different data types. "
   ]
  },
  {
   "cell_type": "markdown",
   "id": "bc603ee0",
   "metadata": {},
   "source": [
    "Soln: \n",
    "\n",
    "    Integer (int): An integer is a whole number, without any parts that dabble in fractions or decimals. It's perfect for counting, keeping track of quantities, or even just representing a specific position. Think of it as a solid, reliable data type that deals with straightforward numerical values, whether they're positive, negative, or even zero.\n",
    "\n",
    "   String (str): They're all about representing and manipulating text, giving life to words, sentences, and all sorts of textual information. Imagine strings as little character soldiers, forming a sequence that can include letters, digits, symbols, and spaces. They love to be enclosed in quotation marks, be it single or double, so they know where they belong.\n",
    "\n",
    "   Boolean (bool): Booleans are the truth seekers of the data types. They revel in binary decisions, always choosing between two options: true or false. You can rely on booleans when you need to make logical choices or express conditions. They're like the traffic lights of your program, indicating whether something is on or off, valid or invalid, or satisfying a condition or not.\n",
    "\n",
    "Q4. What is an expression made up of? What do all expressions do?"
   ]
  },
  {
   "cell_type": "markdown",
   "id": "b14dcdae",
   "metadata": {},
   "source": [
    "Soln: \n",
    "\n",
    "An expression is made up of one or more operands and operators. Operands can be constants, variables, function calls, or other expressions. Operators act on the operands to perform specific operations or computations. Together, the operands and operators form a meaningful combination that represents a computation or a value.\n",
    "\n",
    "For Eg. \n",
    "X = 5 is a statement whereas ( no evaluation is done) \n",
    "x =  x - 8 are called as expressions. ( evaluation is done) \n",
    "\n",
    "The primary function of an expression is to evaluate and produce a value. They enable us to perform calculations, make decisions, and assign values within programming, providing the means to represent complex computations and actions in a concise and logical manner."
   ]
  },
  {
   "cell_type": "markdown",
   "id": "68ef3e6d",
   "metadata": {},
   "source": [
    "Q5. This assignment statements, like spam = 10. What is the difference between an\n",
    "expression and a statement?"
   ]
  },
  {
   "cell_type": "markdown",
   "id": "ce6b01ac",
   "metadata": {},
   "source": [
    "Soln: \n",
    "\n",
    "In the above eg :- [Spam = 10] is statement, where numeric value 10 is being assigned to the variable 'spam'. \n",
    "\n",
    "    Expressions produce a value when evaluated and can be composed of literals, variables, operators, and function calls. \n",
    "    Statements are complete instructions or actions that control program flow and modify program state, and they do not produce a value."
   ]
  },
  {
   "cell_type": "markdown",
   "id": "f9a42d95",
   "metadata": {},
   "source": [
    "Q6. After running the following code, what does the variable bacon contain?\n",
    "\n",
    "    bacon = 22\n",
    "    bacon + 1"
   ]
  },
  {
   "cell_type": "markdown",
   "id": "5d4aec69",
   "metadata": {},
   "source": [
    "Soln: \n",
    "\n",
    "Value = 23"
   ]
  },
  {
   "cell_type": "code",
   "execution_count": 1,
   "id": "504354ad",
   "metadata": {},
   "outputs": [
    {
     "data": {
      "text/plain": [
       "23"
      ]
     },
     "execution_count": 1,
     "metadata": {},
     "output_type": "execute_result"
    }
   ],
   "source": [
    "bacon = 22 \n",
    "bacon + 1 "
   ]
  },
  {
   "cell_type": "markdown",
   "id": "bc2e6c5d",
   "metadata": {},
   "source": [
    "Q7. What should the values of the following two terms be?\n",
    "\n",
    "1. 'spam' + 'spamspam'\n",
    "2. 'spam' * 3"
   ]
  },
  {
   "cell_type": "markdown",
   "id": "71818c3d",
   "metadata": {},
   "source": [
    "Soln: \n",
    "\n",
    "1. 'spam' + 'spamspam' = 'spamspamspam'\n",
    "2. 'spam' * 3 = 'spamspamspam'"
   ]
  },
  {
   "cell_type": "code",
   "execution_count": 2,
   "id": "2008be23",
   "metadata": {},
   "outputs": [
    {
     "data": {
      "text/plain": [
       "'spamspamspam'"
      ]
     },
     "execution_count": 2,
     "metadata": {},
     "output_type": "execute_result"
    }
   ],
   "source": [
    "'spam' * 3"
   ]
  },
  {
   "cell_type": "code",
   "execution_count": 3,
   "id": "e9bdb569",
   "metadata": {},
   "outputs": [
    {
     "data": {
      "text/plain": [
       "'spamspamspam'"
      ]
     },
     "execution_count": 3,
     "metadata": {},
     "output_type": "execute_result"
    }
   ],
   "source": [
    "'spam' + 'spamspam'"
   ]
  },
  {
   "cell_type": "markdown",
   "id": "6c9d9941",
   "metadata": {},
   "source": [
    "Q8. Why is eggs a valid variable name while 100 is invalid?"
   ]
  },
  {
   "cell_type": "markdown",
   "id": "89c69ac0",
   "metadata": {},
   "source": [
    "Soln: \n",
    "\n",
    "    100 is not valid variable name because in Python programming language, a variable name cannot start with a number. Hence '100' is an invalid variable name. \n",
    "    eggs is a valid name as it doesn't start with a number and it isn't a function. "
   ]
  },
  {
   "cell_type": "markdown",
   "id": "f906ebae",
   "metadata": {},
   "source": [
    "Q9. What three functions can be used to get the integer, floating-point number, or string\n",
    "version of a value?"
   ]
  },
  {
   "cell_type": "code",
   "execution_count": null,
   "id": "4da1d0be",
   "metadata": {},
   "outputs": [],
   "source": [
    "#Soln: \n",
    "\n",
    "value = \"10\"\n",
    "int_value = int(value) # int() function to get an integer version of a value\n",
    "int_value"
   ]
  },
  {
   "cell_type": "code",
   "execution_count": 5,
   "id": "c74850f8",
   "metadata": {},
   "outputs": [
    {
     "data": {
      "text/plain": [
       "3.15"
      ]
     },
     "execution_count": 5,
     "metadata": {},
     "output_type": "execute_result"
    }
   ],
   "source": [
    "value_2 = \"3.15\"\n",
    "float_value_2 = float(value_2) # float() function to get a float version of a value\n",
    "float_value_2"
   ]
  },
  {
   "cell_type": "code",
   "execution_count": 6,
   "id": "ed87475e",
   "metadata": {},
   "outputs": [
    {
     "data": {
      "text/plain": [
       "'32'"
      ]
     },
     "execution_count": 6,
     "metadata": {},
     "output_type": "execute_result"
    }
   ],
   "source": [
    "value_3 = 32\n",
    "string_value_3 = str(value_3) # str() function to get a string version of a value. \n",
    "string_value_3"
   ]
  },
  {
   "cell_type": "markdown",
   "id": "a5b17a74",
   "metadata": {},
   "source": [
    "Q10. Why does this expression cause an error? How can you fix it?\n",
    "\n",
    "    'I have eaten' + 99 + 'burritos' "
   ]
  },
  {
   "cell_type": "markdown",
   "id": "a1a9a404",
   "metadata": {},
   "source": [
    "In the above expression, 2 string are being concatenated to an integer. Hence the error. \n",
    "The error can be resolved by converting the interger into a string ( typecasting) "
   ]
  },
  {
   "cell_type": "code",
   "execution_count": 7,
   "id": "8b498033",
   "metadata": {},
   "outputs": [
    {
     "data": {
      "text/plain": [
       "'I have eaten 99 burritos'"
      ]
     },
     "execution_count": 7,
     "metadata": {},
     "output_type": "execute_result"
    }
   ],
   "source": [
    "'I have eaten' + \" 99 \" + 'burritos'"
   ]
  },
  {
   "cell_type": "code",
   "execution_count": null,
   "id": "4c768101",
   "metadata": {},
   "outputs": [],
   "source": []
  }
 ],
 "metadata": {
  "kernelspec": {
   "display_name": "Python 3 (ipykernel)",
   "language": "python",
   "name": "python3"
  },
  "language_info": {
   "codemirror_mode": {
    "name": "ipython",
    "version": 3
   },
   "file_extension": ".py",
   "mimetype": "text/x-python",
   "name": "python",
   "nbconvert_exporter": "python",
   "pygments_lexer": "ipython3",
   "version": "3.9.7"
  }
 },
 "nbformat": 4,
 "nbformat_minor": 5
}
